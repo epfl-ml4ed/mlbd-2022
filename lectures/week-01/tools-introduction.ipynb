{
 "cells": [
  {
   "cell_type": "markdown",
   "metadata": {},
   "source": [
    "# Tutorial 1.1 - Welcome to MLBD!\n",
    "___"
   ]
  },
  {
   "cell_type": "markdown",
   "metadata": {},
   "source": [
    "<img src=\"images/welcome.jpg\" />\n",
    "\n",
    "If you can display this notebook, it probably means you were able to pull it from the Github repository of the course and managed to setup Jupyter using an offline environment (e.g. using [Anaconda](https://www.edureka.co/blog/python-anaconda-tutorial/)) or an online environment (e.g. [EPFL Noto](https://noto.epfl.ch/) or [Google Colab](https://colab.research.google.com/notebooks/intro.ipynb)). \n",
    "\n",
    "__Well done, this is the first important step to successfully completing the MLBD course!__\n",
    "\n",
    "All the tutorials and homeworks will be based on Jupyter Notebooks, so try to get familiar with them as quick as possible.\n",
    "\n",
    "In this very first tutorial we will present a few basics, adapted from the [official Jupyter tutorial](https://jupyter.org/try). The information refers to the classic Jupyter notebooks, so if you are using (the more sophisticated) JupyterLab (e.g. with EPFL Noto), some details may slightly vary. \n",
    "\n",
    "If you prefer to work with the classic notebook in Noto, you can find it under **`Help -> Launch Classic Notebook`**\n",
    "\n",
    "In the following cells, we will illustrate:\n",
    "- The main elements of the Jupyter notebook user interface \n",
    "- The three types of notebook cells\n",
    "- Some useful keyboard shortcuts \n",
    "- Some useful readings for you to independently expand your knowledge\n",
    "\n",
    "\n"
   ]
  },
  {
   "cell_type": "markdown",
   "metadata": {},
   "source": [
    "## Your task\n",
    "---\n",
    "- Go through this notebook and read about the notebook basics\n"
   ]
  },
  {
   "cell_type": "markdown",
   "metadata": {},
   "source": [
    "## Notebook basics\n",
    "---"
   ]
  },
  {
   "cell_type": "markdown",
   "metadata": {},
   "source": [
    "When a notebook is opened, a new tab will be created which presents the notebook user interface (UI). This UI allows for interactively editing and running the notebook document.\n",
    "\n",
    "A new notebook can be created from the dashboard by clicking on the **`Files`** tab, followed by the **`New`** dropdown button, and then selecting the language of choice for the notebook.\n",
    "\n",
    "An interactive tour of the notebook UI can be started by selecting **`Help -> User Interface Tour`** from the notebook menu bar."
   ]
  },
  {
   "cell_type": "markdown",
   "metadata": {},
   "source": [
    "### Header\n",
    "\n",
    "At the top of the notebook document is a header which contains the notebook title, a menubar, and toolbar. This header remains fixed at the top of the screen, even as the body of the notebook is scrolled. The title can be edited in-place (which renames the notebook file), and the menubar and toolbar contain a variety of actions which control notebook navigation and document structure.\n",
    "\n",
    "<img src=\"images/notebook_header_4_0.png\" />"
   ]
  },
  {
   "cell_type": "markdown",
   "metadata": {},
   "source": [
    "### Body\n",
    "\n",
    "The body of a notebook is composed of cells. Each cell contains either markdown, code input, code output, or raw text. Cells can be included in any order and edited at-will, allowing for a large ammount of flexibility for constructing a narrative.\n",
    "\n",
    "- **Markdown cells** - These are used to build a nicely formatted narrative around the code in the document. The majority of this lesson is composed of markdown cells.\n",
    "\n",
    "- **Code cells** - These are used to define the computational code in the document. They come in two forms: the *input cell* where the user types the code to be executed, and the *output cell* which is the representation of the executed code. Depending on the code, this representation may be a simple scalar value, or something more complex like a plot or an interactive widget.\n",
    "\n",
    "- **Raw cells** - These are used when text needs to be included in raw form, without execution or transformation.\n",
    "\n",
    "<img src=\"images/notebook_body_4_0.png\" />"
   ]
  },
  {
   "cell_type": "markdown",
   "metadata": {},
   "source": [
    "#### Mouse navigation\n",
    "\n",
    "The first concept to understand in mouse-based navigation is that **cells can be selected by clicking on them.** The currently selected cell is indicated with a grey or green border depending on whether the notebook is in edit or command mode. Clicking inside a cell's editor area will enter edit mode. Clicking on the prompt or the output area of a cell will enter command mode.\n",
    "\n",
    "The second concept to understand in mouse-based navigation is that **cell actions usually apply to the currently selected cell**. For example, to run the code in a cell, select it and then click the <button class='btn btn-default btn-xs'><i class=\"fa fa-play icon-play\"></i></button> button in the toolbar or the **`Cell -> Run`** menu item. Similarly, to copy a cell, select it and then click the <button class='btn btn-default btn-xs'><i class=\"fa fa-copy icon-copy\"></i></button> button in the toolbar or the **`Edit -> Copy`** menu item. With this simple pattern, it should be possible to perform nearly every action with the mouse.\n",
    "\n",
    "Markdown cells have one other state which can be modified with the mouse. These cells can either be rendered or unrendered. When they are rendered, a nice formatted representation of the cell's contents will be presented. When they are unrendered, the raw text source of the cell will be presented. To render the selected cell with the mouse, click the <button class='btn btn-default btn-xs'><i class=\"fa fa-play icon-play\"></i></button> button in the toolbar or the **`Cell -> Run`** menu item. To unrender the selected cell, double click on the cell."
   ]
  },
  {
   "cell_type": "markdown",
   "metadata": {},
   "source": [
    "#### Keyboard Navigation\n",
    "\n",
    "The modal user interface of the Notebook has been optimized for efficient keyboard usage. This is made possible by having two different sets of keyboard shortcuts: one set that is active in edit mode and another in command mode.\n",
    "\n",
    "The most important keyboard shortcuts are **`Enter`**, which enters edit mode, and **`Esc`**, which enters command mode.\n",
    "\n",
    "In edit mode, most of the keyboard is dedicated to typing into the cell's editor. Thus, in edit mode there are relatively few shortcuts. In command mode, the entire keyboard is available for shortcuts, so there are many more possibilities.\n",
    "\n",
    "The following images give an overview of the available keyboard shortcuts. These can viewed in the notebook at any time via the **`Help -> Keyboard Shortcuts`** menu item.\n",
    "\n",
    "<img src=\"images/notebook_shortcuts_4_0.png\">\n",
    "\n",
    "The following shortcuts have been found to be the most useful in day-to-day tasks:\n",
    "\n",
    "- Basic navigation: **`enter`**, **`shift-enter`**, **`up/k`**, **`down/j`**\n",
    "- Saving the notebook: **`s`**\n",
    "- Cell types: **`y`**, **`m`**, **`1-6`**, **`r`**\n",
    "- Cell creation: **`a`**, **`b`**\n",
    "- Cell editing: **`x`**, **`c`**, **`v`**, **`d`**, **`z`**, **`ctrl+shift+-`**\n",
    "- Kernel operations: **`i`**, **`.`**"
   ]
  },
  {
   "cell_type": "markdown",
   "metadata": {},
   "source": [
    "## Readings\n",
    "---"
   ]
  },
  {
   "cell_type": "markdown",
   "metadata": {},
   "source": [
    "The above is of course only a few brief introduction to Jupyter notebooks and the internet is full of more helpful tutorials.\n",
    "In the following, we present to you some examples that could be interesting for you. In case you are already proficient with notebooks, we have also included some readings about other tools.\n",
    "\n",
    "Jupyter notebooks:\n",
    "- https://jupyter-notebook.readthedocs.io/en/stable/\n",
    "- https://www.dataquest.io/blog/jupyter-notebook-tutorial/\n",
    "- https://towardsdatascience.com/a-beginners-tutorial-to-jupyter-notebooks-1b2f8705888a\n",
    "- https://towardsdatascience.com/bringing-the-best-out-of-jupyter-notebooks-for-data-science-f0871519ca29\n",
    "- https://www.dataquest.io/blog/jupyter-notebook-tips-tricks-shortcuts/\n",
    "\n",
    "JupyterLab:\n",
    "- https://jupyterlab.readthedocs.io/en/stable/\n",
    "- https://www.blog.pythonlibrary.org/2019/02/05/getting-started-with-jupyterlab/\n",
    "- https://towardsdatascience.com/jupyterlab-a-next-gen-python-data-science-ide-562d216b023d\n",
    "\n",
    "EPFL Noto:\n",
    "- https://moodle.epfl.ch/course/view.php?id=15917\n",
    "\n",
    "Google Colab:\n",
    "- https://colab.research.google.com/notebooks/intro.ipynb\n",
    "- https://towardsdatascience.com/4-reasons-why-you-should-use-google-colab-for-your-next-project-b0c4aaad39ed\n",
    "- https://www.youtube.com/watch?v=inN8seMm7UI\n",
    "- https://towardsdatascience.com/10-tips-for-a-better-google-colab-experience-33f8fe721b82\n",
    "\n",
    "\n",
    "Github:\n",
    "- https://guides.github.com/\n",
    "- https://www.edureka.co/blog/how-to-use-github/\n",
    "- https://towardsdatascience.com/the-easiest-github-tutorial-ever-4a3aa0396039\n",
    "- https://zepel.io/blog/how-to-create-a-new-branch-in-github/\n",
    "- https://github.blog/2020-04-09-github-protips-tips-tricks-hacks-and-secrets-from-lee-reilly/\n",
    "\n",
    "\n",
    "Anaconda:\n",
    "- https://docs.anaconda.com/anaconda/user-guide/getting-started/\n",
    "- https://www.edureka.co/blog/python-anaconda-tutorial/\n",
    "- https://jawert.medium.com/is-anaconda-the-best-tool-for-data-science-dc004c23bf0e\n"
   ]
  },
  {
   "cell_type": "markdown",
   "metadata": {},
   "source": [
    "## __Now it's your turn__\n",
    "---"
   ]
  },
  {
   "cell_type": "markdown",
   "metadata": {},
   "source": [
    "To complete this first tutorial, try the following:\n",
    "- Based on your interest, select one (or more) readings from the above list and go through it.\n",
    "- Add a new Markdown cell and summarize what you have learned from the reading(s) and how it can be useful for you. In themarkdown cell, experiment with different text formatting.\n",
    "- Add a Code cell in which you define varibles and then assign them values. Then perform some basic arithmetics using these variables and output the result."
   ]
  },
  {
   "cell_type": "code",
   "execution_count": 1,
   "metadata": {},
   "outputs": [],
   "source": [
    "hello = 'hello'"
   ]
  },
  {
   "cell_type": "markdown",
   "metadata": {},
   "source": [
    "## Summary\n",
    "---"
   ]
  },
  {
   "cell_type": "markdown",
   "metadata": {},
   "source": [
    "In this very first tutorial, we have revised some basics of Jupyter notebooks and explored their functioning. You should now be able to navigate through a notebook, knowing the difference between markdown and code cells, and how to use them. Moreover, you should be aware that the internet is full with useful resources, that you can find and study independently to expand your knowledge about different tools. This will ultimately help you in being more efficient with your work involving Jupyter notebooks.  "
   ]
  }
 ],
 "metadata": {
  "kernelspec": {
   "display_name": "Python 3",
   "language": "python",
   "name": "python3"
  },
  "language_info": {
   "codemirror_mode": {
    "name": "ipython",
    "version": 3
   },
   "file_extension": ".py",
   "mimetype": "text/x-python",
   "name": "python",
   "nbconvert_exporter": "python",
   "pygments_lexer": "ipython3",
   "version": "3.8.8"
  }
 },
 "nbformat": 4,
 "nbformat_minor": 4
}
